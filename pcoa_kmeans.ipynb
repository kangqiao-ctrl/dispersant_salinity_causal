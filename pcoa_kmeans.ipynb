{
 "cells": [
  {
   "cell_type": "code",
   "execution_count": 1,
   "id": "fifty-gravity",
   "metadata": {},
   "outputs": [],
   "source": [
    "import pandas as pd\n",
    "import numpy as np\n",
    "from sklearn.manifold import MDS\n",
    "from sklearn.cluster import KMeans\n",
    "import matplotlib.pyplot as plt\n",
    "from sklearn.preprocessing import StandardScaler\n",
    "from sklearn import decomposition\n",
    "import seaborn as sns; sns.set_style(\"whitegrid\", {'axes.grid' : False})\n",
    "import skbio\n",
    "from scipy.spatial import distance\n",
    "import random"
   ]
  },
  {
   "cell_type": "code",
   "execution_count": 2,
   "id": "judicial-press",
   "metadata": {},
   "outputs": [],
   "source": [
    "from matplotlib import rcParams\n",
    "import string\n",
    "rcParams['font.family'] = 'Arial'"
   ]
  },
  {
   "cell_type": "code",
   "execution_count": 3,
   "id": "polar-testimony",
   "metadata": {},
   "outputs": [],
   "source": [
    "from matplotlib.patches import Patch\n",
    "from matplotlib.lines import Line2D"
   ]
  },
  {
   "cell_type": "code",
   "execution_count": 4,
   "id": "handmade-finance",
   "metadata": {},
   "outputs": [],
   "source": [
    "%matplotlib inline"
   ]
  },
  {
   "cell_type": "code",
   "execution_count": 5,
   "id": "expressed-joshua",
   "metadata": {},
   "outputs": [],
   "source": [
    "pd.set_option('display.max_columns', None)"
   ]
  },
  {
   "cell_type": "code",
   "execution_count": 6,
   "id": "advisory-chester",
   "metadata": {},
   "outputs": [],
   "source": [
    "bdr=pd.read_csv('processed_bd_rate.csv',index_col=0)"
   ]
  },
  {
   "cell_type": "code",
   "execution_count": 7,
   "id": "undefined-stream",
   "metadata": {},
   "outputs": [],
   "source": [
    "bdr['tag']=bdr['Salinity'].apply(lambda x: str(x))+'+'+bdr['dis'].apply(lambda x: str(x))"
   ]
  },
  {
   "cell_type": "code",
   "execution_count": 8,
   "id": "operational-valentine",
   "metadata": {},
   "outputs": [],
   "source": [
    "bdr = bdr.iloc[3:,3:].set_index('tag')"
   ]
  },
  {
   "cell_type": "code",
   "execution_count": 9,
   "id": "progressive-turner",
   "metadata": {},
   "outputs": [
    {
     "data": {
      "text/plain": [
       "(36, 53)"
      ]
     },
     "execution_count": 9,
     "metadata": {},
     "output_type": "execute_result"
    }
   ],
   "source": [
    "bdr.shape"
   ]
  },
  {
   "cell_type": "code",
   "execution_count": 10,
   "id": "interior-victoria",
   "metadata": {},
   "outputs": [],
   "source": [
    "bdr_standard = pd.DataFrame(StandardScaler().fit_transform(bdr), \n",
    "                           index = bdr.index,\n",
    "                           columns = bdr.columns)"
   ]
  },
  {
   "cell_type": "code",
   "execution_count": 11,
   "id": "automotive-earthquake",
   "metadata": {},
   "outputs": [],
   "source": [
    "Ar_dist = distance.squareform(distance.pdist(bdr, metric=\"braycurtis\")) # (n x n) distance measure\n",
    "DM_dist = skbio.stats.distance.DistanceMatrix(Ar_dist, ids=bdr_standard.reset_index().index)"
   ]
  },
  {
   "cell_type": "code",
   "execution_count": 12,
   "id": "proved-monroe",
   "metadata": {},
   "outputs": [
    {
     "name": "stderr",
     "output_type": "stream",
     "text": [
      "/Users/qiaok/opt/anaconda3/envs/basic_analysis/lib/python3.6/site-packages/skbio/stats/ordination/_principal_coordinate_analysis.py:152: RuntimeWarning: The result contains negative eigenvalues. Please compare their magnitude with the magnitude of some of the largest positive eigenvalues. If the negative ones are smaller, it's probably safe to ignore them, but if they are large in magnitude, the results won't be useful. See the Notes section for more details. The smallest eigenvalue is -0.027313756799077913 and the largest is 0.6611993879280171.\n",
      "  RuntimeWarning\n"
     ]
    }
   ],
   "source": [
    "PCoA = skbio.stats.ordination.pcoa(DM_dist,number_of_dimensions=2)"
   ]
  },
  {
   "cell_type": "code",
   "execution_count": 13,
   "id": "43e0f1d6",
   "metadata": {},
   "outputs": [
    {
     "data": {
      "text/plain": [
       "PC1    0.726284\n",
       "PC2    0.137943\n",
       "dtype: float64"
      ]
     },
     "execution_count": 13,
     "metadata": {},
     "output_type": "execute_result"
    }
   ],
   "source": [
    "PCoA.proportion_explained"
   ]
  },
  {
   "cell_type": "code",
   "execution_count": 14,
   "id": "sustained-channels",
   "metadata": {},
   "outputs": [],
   "source": [
    "result_m = PCoA.samples"
   ]
  },
  {
   "cell_type": "code",
   "execution_count": 15,
   "id": "characteristic-tender",
   "metadata": {},
   "outputs": [],
   "source": [
    "result_m.index = bdr.index"
   ]
  },
  {
   "cell_type": "code",
   "execution_count": 16,
   "id": "fitted-replacement",
   "metadata": {},
   "outputs": [
    {
     "data": {
      "text/html": [
       "<div>\n",
       "<style scoped>\n",
       "    .dataframe tbody tr th:only-of-type {\n",
       "        vertical-align: middle;\n",
       "    }\n",
       "\n",
       "    .dataframe tbody tr th {\n",
       "        vertical-align: top;\n",
       "    }\n",
       "\n",
       "    .dataframe thead th {\n",
       "        text-align: right;\n",
       "    }\n",
       "</style>\n",
       "<table border=\"1\" class=\"dataframe\">\n",
       "  <thead>\n",
       "    <tr style=\"text-align: right;\">\n",
       "      <th></th>\n",
       "      <th>PC1</th>\n",
       "      <th>PC2</th>\n",
       "    </tr>\n",
       "    <tr>\n",
       "      <th>tag</th>\n",
       "      <th></th>\n",
       "      <th></th>\n",
       "    </tr>\n",
       "  </thead>\n",
       "  <tbody>\n",
       "    <tr>\n",
       "      <th>0+False</th>\n",
       "      <td>-0.061110</td>\n",
       "      <td>-0.106389</td>\n",
       "    </tr>\n",
       "    <tr>\n",
       "      <th>0+False</th>\n",
       "      <td>-0.162591</td>\n",
       "      <td>-0.092015</td>\n",
       "    </tr>\n",
       "    <tr>\n",
       "      <th>0+False</th>\n",
       "      <td>-0.011013</td>\n",
       "      <td>-0.107362</td>\n",
       "    </tr>\n",
       "    <tr>\n",
       "      <th>0+True</th>\n",
       "      <td>-0.079553</td>\n",
       "      <td>-0.041766</td>\n",
       "    </tr>\n",
       "    <tr>\n",
       "      <th>0+True</th>\n",
       "      <td>-0.089961</td>\n",
       "      <td>-0.039914</td>\n",
       "    </tr>\n",
       "    <tr>\n",
       "      <th>0+True</th>\n",
       "      <td>0.015884</td>\n",
       "      <td>-0.049365</td>\n",
       "    </tr>\n",
       "    <tr>\n",
       "      <th>5+False</th>\n",
       "      <td>-0.147803</td>\n",
       "      <td>-0.005640</td>\n",
       "    </tr>\n",
       "    <tr>\n",
       "      <th>5+False</th>\n",
       "      <td>-0.200243</td>\n",
       "      <td>0.000642</td>\n",
       "    </tr>\n",
       "    <tr>\n",
       "      <th>5+False</th>\n",
       "      <td>-0.063927</td>\n",
       "      <td>-0.002231</td>\n",
       "    </tr>\n",
       "    <tr>\n",
       "      <th>5+True</th>\n",
       "      <td>-0.162715</td>\n",
       "      <td>0.024678</td>\n",
       "    </tr>\n",
       "    <tr>\n",
       "      <th>5+True</th>\n",
       "      <td>-0.207107</td>\n",
       "      <td>0.032870</td>\n",
       "    </tr>\n",
       "    <tr>\n",
       "      <th>5+True</th>\n",
       "      <td>-0.010519</td>\n",
       "      <td>0.020717</td>\n",
       "    </tr>\n",
       "    <tr>\n",
       "      <th>15+False</th>\n",
       "      <td>-0.134318</td>\n",
       "      <td>0.037473</td>\n",
       "    </tr>\n",
       "    <tr>\n",
       "      <th>15+False</th>\n",
       "      <td>-0.195494</td>\n",
       "      <td>0.040630</td>\n",
       "    </tr>\n",
       "    <tr>\n",
       "      <th>15+False</th>\n",
       "      <td>0.050327</td>\n",
       "      <td>0.066626</td>\n",
       "    </tr>\n",
       "    <tr>\n",
       "      <th>15+True</th>\n",
       "      <td>-0.049566</td>\n",
       "      <td>-0.060953</td>\n",
       "    </tr>\n",
       "    <tr>\n",
       "      <th>15+True</th>\n",
       "      <td>-0.107780</td>\n",
       "      <td>-0.054583</td>\n",
       "    </tr>\n",
       "    <tr>\n",
       "      <th>15+True</th>\n",
       "      <td>0.101354</td>\n",
       "      <td>-0.056346</td>\n",
       "    </tr>\n",
       "    <tr>\n",
       "      <th>35+False</th>\n",
       "      <td>-0.029749</td>\n",
       "      <td>0.052701</td>\n",
       "    </tr>\n",
       "    <tr>\n",
       "      <th>35+False</th>\n",
       "      <td>-0.103141</td>\n",
       "      <td>0.042743</td>\n",
       "    </tr>\n",
       "    <tr>\n",
       "      <th>35+False</th>\n",
       "      <td>0.129966</td>\n",
       "      <td>0.085215</td>\n",
       "    </tr>\n",
       "    <tr>\n",
       "      <th>35+True</th>\n",
       "      <td>-0.001645</td>\n",
       "      <td>-0.014743</td>\n",
       "    </tr>\n",
       "    <tr>\n",
       "      <th>35+True</th>\n",
       "      <td>-0.095961</td>\n",
       "      <td>-0.009736</td>\n",
       "    </tr>\n",
       "    <tr>\n",
       "      <th>35+True</th>\n",
       "      <td>0.167399</td>\n",
       "      <td>-0.010749</td>\n",
       "    </tr>\n",
       "    <tr>\n",
       "      <th>50+False</th>\n",
       "      <td>0.086150</td>\n",
       "      <td>0.016022</td>\n",
       "    </tr>\n",
       "    <tr>\n",
       "      <th>50+False</th>\n",
       "      <td>0.005908</td>\n",
       "      <td>0.007579</td>\n",
       "    </tr>\n",
       "    <tr>\n",
       "      <th>50+False</th>\n",
       "      <td>0.233299</td>\n",
       "      <td>0.043036</td>\n",
       "    </tr>\n",
       "    <tr>\n",
       "      <th>50+True</th>\n",
       "      <td>0.000501</td>\n",
       "      <td>0.077960</td>\n",
       "    </tr>\n",
       "    <tr>\n",
       "      <th>50+True</th>\n",
       "      <td>-0.052056</td>\n",
       "      <td>0.063677</td>\n",
       "    </tr>\n",
       "    <tr>\n",
       "      <th>50+True</th>\n",
       "      <td>0.109388</td>\n",
       "      <td>0.108952</td>\n",
       "    </tr>\n",
       "    <tr>\n",
       "      <th>70+False</th>\n",
       "      <td>0.271950</td>\n",
       "      <td>-0.074007</td>\n",
       "    </tr>\n",
       "    <tr>\n",
       "      <th>70+False</th>\n",
       "      <td>0.105710</td>\n",
       "      <td>-0.090210</td>\n",
       "    </tr>\n",
       "    <tr>\n",
       "      <th>70+False</th>\n",
       "      <td>0.337325</td>\n",
       "      <td>-0.087673</td>\n",
       "    </tr>\n",
       "    <tr>\n",
       "      <th>70+True</th>\n",
       "      <td>0.111165</td>\n",
       "      <td>0.064118</td>\n",
       "    </tr>\n",
       "    <tr>\n",
       "      <th>70+True</th>\n",
       "      <td>0.032444</td>\n",
       "      <td>0.050839</td>\n",
       "    </tr>\n",
       "    <tr>\n",
       "      <th>70+True</th>\n",
       "      <td>0.207481</td>\n",
       "      <td>0.067201</td>\n",
       "    </tr>\n",
       "  </tbody>\n",
       "</table>\n",
       "</div>"
      ],
      "text/plain": [
       "               PC1       PC2\n",
       "tag                         \n",
       "0+False  -0.061110 -0.106389\n",
       "0+False  -0.162591 -0.092015\n",
       "0+False  -0.011013 -0.107362\n",
       "0+True   -0.079553 -0.041766\n",
       "0+True   -0.089961 -0.039914\n",
       "0+True    0.015884 -0.049365\n",
       "5+False  -0.147803 -0.005640\n",
       "5+False  -0.200243  0.000642\n",
       "5+False  -0.063927 -0.002231\n",
       "5+True   -0.162715  0.024678\n",
       "5+True   -0.207107  0.032870\n",
       "5+True   -0.010519  0.020717\n",
       "15+False -0.134318  0.037473\n",
       "15+False -0.195494  0.040630\n",
       "15+False  0.050327  0.066626\n",
       "15+True  -0.049566 -0.060953\n",
       "15+True  -0.107780 -0.054583\n",
       "15+True   0.101354 -0.056346\n",
       "35+False -0.029749  0.052701\n",
       "35+False -0.103141  0.042743\n",
       "35+False  0.129966  0.085215\n",
       "35+True  -0.001645 -0.014743\n",
       "35+True  -0.095961 -0.009736\n",
       "35+True   0.167399 -0.010749\n",
       "50+False  0.086150  0.016022\n",
       "50+False  0.005908  0.007579\n",
       "50+False  0.233299  0.043036\n",
       "50+True   0.000501  0.077960\n",
       "50+True  -0.052056  0.063677\n",
       "50+True   0.109388  0.108952\n",
       "70+False  0.271950 -0.074007\n",
       "70+False  0.105710 -0.090210\n",
       "70+False  0.337325 -0.087673\n",
       "70+True   0.111165  0.064118\n",
       "70+True   0.032444  0.050839\n",
       "70+True   0.207481  0.067201"
      ]
     },
     "execution_count": 16,
     "metadata": {},
     "output_type": "execute_result"
    }
   ],
   "source": [
    "result_m"
   ]
  },
  {
   "cell_type": "code",
   "execution_count": 27,
   "id": "interstate-treat",
   "metadata": {},
   "outputs": [],
   "source": [
    "estimator = KMeans(n_clusters=3)\n",
    "estimator.fit(result_m)\n",
    "label_pred = estimator.labels_\n",
    "centroids = estimator.cluster_centers_\n",
    "inertia = estimator.inertia_"
   ]
  }
 ],
 "metadata": {
  "kernelspec": {
   "display_name": "Python 3",
   "language": "python",
   "name": "python3"
  },
  "language_info": {
   "codemirror_mode": {
    "name": "ipython",
    "version": 3
   },
   "file_extension": ".py",
   "mimetype": "text/x-python",
   "name": "python",
   "nbconvert_exporter": "python",
   "pygments_lexer": "ipython3",
   "version": "3.7.10"
  }
 },
 "nbformat": 4,
 "nbformat_minor": 5
}
